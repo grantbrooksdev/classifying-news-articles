{
 "cells": [
  {
   "cell_type": "markdown",
   "id": "5ef6d4b5-8c55-49a9-b07d-213c0ba3873c",
   "metadata": {},
   "source": [
    "# <span style=\"color: #00ab9c\">Part 1:</span> Classifying News Articles"
   ]
  },
  {
   "cell_type": "markdown",
   "id": "8650a7f7-88e7-4fdc-9db8-e704ef2562ee",
   "metadata": {},
   "source": [
    "## EDA"
   ]
  },
  {
   "cell_type": "code",
   "execution_count": null,
   "id": "e7d07746-c0e7-4a25-a1ae-764f81e2584b",
   "metadata": {},
   "outputs": [],
   "source": []
  },
  {
   "cell_type": "markdown",
   "id": "34e18a8f-28f5-448d-ade9-c97fa3e9f5bc",
   "metadata": {},
   "source": [
    "## Model Building & Training"
   ]
  },
  {
   "cell_type": "code",
   "execution_count": null,
   "id": "5469d510-8e9d-4951-bcbe-13b0b35bdd51",
   "metadata": {},
   "outputs": [],
   "source": []
  },
  {
   "cell_type": "markdown",
   "id": "7171399c-a05f-4361-a4c5-eecfc8c0924e",
   "metadata": {},
   "source": [
    "## Comparison with Supervised Learning"
   ]
  },
  {
   "cell_type": "code",
   "execution_count": null,
   "id": "3139a3ae-4c4d-453a-89b0-19f95b879fe6",
   "metadata": {},
   "outputs": [],
   "source": []
  },
  {
   "cell_type": "markdown",
   "id": "b940f7c9-defc-424f-87e7-0cbab589bdda",
   "metadata": {},
   "source": [
    "## Part 2"
   ]
  },
  {
   "cell_type": "code",
   "execution_count": null,
   "id": "85ed422b-db13-4545-a6b6-51fed1ca39b9",
   "metadata": {},
   "outputs": [],
   "source": []
  }
 ],
 "metadata": {
  "kernelspec": {
   "display_name": "Python 3 (ipykernel)",
   "language": "python",
   "name": "python3"
  },
  "language_info": {
   "codemirror_mode": {
    "name": "ipython",
    "version": 3
   },
   "file_extension": ".py",
   "mimetype": "text/x-python",
   "name": "python",
   "nbconvert_exporter": "python",
   "pygments_lexer": "ipython3",
   "version": "3.12.3"
  }
 },
 "nbformat": 4,
 "nbformat_minor": 5
}
