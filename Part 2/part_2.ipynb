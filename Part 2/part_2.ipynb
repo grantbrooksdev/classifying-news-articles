{
 "cells": [
  {
   "cell_type": "markdown",
   "id": "5ef6d4b5-8c55-49a9-b07d-213c0ba3873c",
   "metadata": {},
   "source": [
    "# <span style=\"color: #00ab9c\">Part 2:</span> Limitations of sklearn's NMF Library"
   ]
  },
  {
   "cell_type": "markdown",
   "id": "eccf3b4f-5366-434b-82d3-3748ac709eb8",
   "metadata": {},
   "source": [
    "## Loading movie ratings from homework 3"
   ]
  },
  {
   "cell_type": "code",
   "execution_count": 41,
   "id": "77ad4bb5-e479-45a1-9eec-d1c6b41576fd",
   "metadata": {},
   "outputs": [],
   "source": [
    "# I used some of the code below from the HW3 assignment\n",
    "import pandas as pd\n",
    "import matplotlib.pyplot as plt\n",
    "import numpy as np\n",
    "from collections import namedtuple\n",
    "\n",
    "MV_users = pd.read_csv('data/users.csv')\n",
    "MV_movies = pd.read_csv('data/movies.csv')\n",
    "train = pd.read_csv('data/train.csv')\n",
    "test = pd.read_csv('data/test.csv')\n",
    "Data = namedtuple('Data', ['users','movies','train','test'])\n",
    "data = Data(MV_users, MV_movies, train, test)"
   ]
  },
  {
   "cell_type": "code",
   "execution_count": 42,
   "id": "e16a87b8-66ff-487a-b99f-c214796809e7",
   "metadata": {},
   "outputs": [
    {
     "name": "stdout",
     "output_type": "stream",
     "text": [
      "    uID   mID  rating\n",
      "0   744  1210       5\n",
      "1  3040  1584       4\n",
      "2  1451  1293       5\n",
      "3  5455  3176       2\n",
      "4  2507  3074       5\n"
     ]
    }
   ],
   "source": [
    "print(data.train.head())"
   ]
  },
  {
   "cell_type": "code",
   "execution_count": 45,
   "id": "ba7890bb-52c7-416c-a6e3-a8bc48af1a1e",
   "metadata": {
    "scrolled": true
   },
   "outputs": [
    {
     "name": "stdout",
     "output_type": "stream",
     "text": [
      "mID   1     2     3     4     5     6     7     8     9     10    ...  3943  \\\n",
      "uID                                                               ...         \n",
      "1      5.0   NaN   NaN   NaN   NaN   NaN   NaN   NaN   NaN   NaN  ...   NaN   \n",
      "2      NaN   NaN   NaN   NaN   NaN   NaN   NaN   NaN   NaN   NaN  ...   NaN   \n",
      "3      NaN   NaN   NaN   NaN   NaN   NaN   NaN   NaN   NaN   NaN  ...   NaN   \n",
      "4      NaN   NaN   NaN   NaN   NaN   NaN   NaN   NaN   NaN   NaN  ...   NaN   \n",
      "5      NaN   NaN   NaN   NaN   NaN   2.0   NaN   NaN   NaN   NaN  ...   NaN   \n",
      "...    ...   ...   ...   ...   ...   ...   ...   ...   ...   ...  ...   ...   \n",
      "6036   NaN   NaN   NaN   2.0   NaN   NaN   NaN   NaN   NaN   NaN  ...   NaN   \n",
      "6037   NaN   NaN   NaN   NaN   NaN   NaN   NaN   NaN   NaN   NaN  ...   NaN   \n",
      "6038   NaN   NaN   NaN   NaN   NaN   NaN   NaN   NaN   NaN   NaN  ...   NaN   \n",
      "6039   NaN   NaN   NaN   NaN   NaN   NaN   NaN   NaN   NaN   NaN  ...   NaN   \n",
      "6040   3.0   NaN   NaN   NaN   NaN   NaN   NaN   NaN   NaN   NaN  ...   NaN   \n",
      "\n",
      "mID   3944  3945  3946  3947  3948  3949  3950  3951  3952  \n",
      "uID                                                         \n",
      "1      NaN   NaN   NaN   NaN   NaN   NaN   NaN   NaN   NaN  \n",
      "2      NaN   NaN   NaN   NaN   NaN   NaN   NaN   NaN   NaN  \n",
      "3      NaN   NaN   NaN   NaN   NaN   NaN   NaN   NaN   NaN  \n",
      "4      NaN   NaN   NaN   NaN   NaN   NaN   NaN   NaN   NaN  \n",
      "5      NaN   NaN   NaN   NaN   NaN   NaN   NaN   NaN   NaN  \n",
      "...    ...   ...   ...   ...   ...   ...   ...   ...   ...  \n",
      "6036   NaN   NaN   NaN   NaN   NaN   NaN   NaN   NaN   NaN  \n",
      "6037   NaN   NaN   NaN   NaN   NaN   NaN   NaN   NaN   NaN  \n",
      "6038   NaN   NaN   NaN   NaN   NaN   NaN   NaN   NaN   NaN  \n",
      "6039   NaN   NaN   NaN   NaN   NaN   NaN   NaN   NaN   NaN  \n",
      "6040   NaN   NaN   NaN   NaN   NaN   NaN   NaN   NaN   NaN  \n",
      "\n",
      "[6040 rows x 3664 columns]\n"
     ]
    }
   ],
   "source": [
    "rating_matrix = data.train.pivot(index='uID', columns='mID', values='rating')\n",
    "print(rating_matrix)"
   ]
  },
  {
   "cell_type": "code",
   "execution_count": 46,
   "id": "20115a0c-8efe-4e03-bc15-1fb086e7eff5",
   "metadata": {
    "scrolled": true
   },
   "outputs": [
    {
     "name": "stdout",
     "output_type": "stream",
     "text": [
      "mID   1     2     3     4     5     6     7     8     9     10    ...  3943  \\\n",
      "uID                                                               ...         \n",
      "1      5.0   0.0   0.0   0.0   0.0   0.0   0.0   0.0   0.0   0.0  ...   0.0   \n",
      "2      0.0   0.0   0.0   0.0   0.0   0.0   0.0   0.0   0.0   0.0  ...   0.0   \n",
      "3      0.0   0.0   0.0   0.0   0.0   0.0   0.0   0.0   0.0   0.0  ...   0.0   \n",
      "4      0.0   0.0   0.0   0.0   0.0   0.0   0.0   0.0   0.0   0.0  ...   0.0   \n",
      "5      0.0   0.0   0.0   0.0   0.0   2.0   0.0   0.0   0.0   0.0  ...   0.0   \n",
      "...    ...   ...   ...   ...   ...   ...   ...   ...   ...   ...  ...   ...   \n",
      "6036   0.0   0.0   0.0   2.0   0.0   0.0   0.0   0.0   0.0   0.0  ...   0.0   \n",
      "6037   0.0   0.0   0.0   0.0   0.0   0.0   0.0   0.0   0.0   0.0  ...   0.0   \n",
      "6038   0.0   0.0   0.0   0.0   0.0   0.0   0.0   0.0   0.0   0.0  ...   0.0   \n",
      "6039   0.0   0.0   0.0   0.0   0.0   0.0   0.0   0.0   0.0   0.0  ...   0.0   \n",
      "6040   3.0   0.0   0.0   0.0   0.0   0.0   0.0   0.0   0.0   0.0  ...   0.0   \n",
      "\n",
      "mID   3944  3945  3946  3947  3948  3949  3950  3951  3952  \n",
      "uID                                                         \n",
      "1      0.0   0.0   0.0   0.0   0.0   0.0   0.0   0.0   0.0  \n",
      "2      0.0   0.0   0.0   0.0   0.0   0.0   0.0   0.0   0.0  \n",
      "3      0.0   0.0   0.0   0.0   0.0   0.0   0.0   0.0   0.0  \n",
      "4      0.0   0.0   0.0   0.0   0.0   0.0   0.0   0.0   0.0  \n",
      "5      0.0   0.0   0.0   0.0   0.0   0.0   0.0   0.0   0.0  \n",
      "...    ...   ...   ...   ...   ...   ...   ...   ...   ...  \n",
      "6036   0.0   0.0   0.0   0.0   0.0   0.0   0.0   0.0   0.0  \n",
      "6037   0.0   0.0   0.0   0.0   0.0   0.0   0.0   0.0   0.0  \n",
      "6038   0.0   0.0   0.0   0.0   0.0   0.0   0.0   0.0   0.0  \n",
      "6039   0.0   0.0   0.0   0.0   0.0   0.0   0.0   0.0   0.0  \n",
      "6040   0.0   0.0   0.0   0.0   0.0   0.0   0.0   0.0   0.0  \n",
      "\n",
      "[6040 rows x 3664 columns]\n"
     ]
    }
   ],
   "source": [
    "rating_matrix_zero = rating_matrix.copy()\n",
    "rating_matrix_zero[np.isnan(rating_matrix_zero)] = 0\n",
    "print(rating_matrix_zero)"
   ]
  },
  {
   "cell_type": "code",
   "execution_count": 47,
   "id": "bde5e681-044e-4d24-a2c2-bbf446298337",
   "metadata": {
    "scrolled": true
   },
   "outputs": [
    {
     "name": "stdout",
     "output_type": "stream",
     "text": [
      "mID       1         2         3         4         5         6         7     \\\n",
      "uID                                                                          \n",
      "1     0.829939  0.218400  0.180189  0.084691  0.172853  0.105464  0.293883   \n",
      "2     0.492053  0.347704  0.145447  0.017005  0.065835  0.928003  0.060594   \n",
      "3     0.548136  0.160800  0.082487  0.032135  0.068807  0.180249  0.110412   \n",
      "4     0.284615  0.056549  0.000000  0.000000  0.000000  0.013092  0.000000   \n",
      "5     1.152778  0.048671  0.022790  0.044850  0.010316  0.809842  0.056227   \n",
      "...        ...       ...       ...       ...       ...       ...       ...   \n",
      "6036  2.901329  0.666377  0.377042  0.166702  0.299311  1.534222  0.501944   \n",
      "6037  0.874156  0.093107  0.000000  0.010125  0.000000  0.252311  0.011216   \n",
      "6038  0.176853  0.045310  0.029047  0.013138  0.027865  0.014096  0.046805   \n",
      "6039  0.605095  0.163958  0.124029  0.054080  0.118980  0.047469  0.197619   \n",
      "6040  0.938475  0.044392  0.010392  0.026378  0.009969  0.437410  0.040760   \n",
      "\n",
      "mID       8         9         10    ...      3943      3944      3945  \\\n",
      "uID                                 ...                                 \n",
      "1     0.019852  0.000000  0.068476  ...  0.016970  0.003507  0.006609   \n",
      "2     0.019756  0.122785  0.835399  ...  0.036924  0.000683  0.002500   \n",
      "3     0.009668  0.017199  0.197792  ...  0.011479  0.001277  0.004413   \n",
      "4     0.000000  0.000000  0.087828  ...  0.001810  0.000082  0.002683   \n",
      "5     0.007435  0.019239  0.121874  ...  0.110293  0.001251  0.003021   \n",
      "...        ...       ...       ...  ...       ...       ...       ...   \n",
      "6036  0.048090  0.103940  0.903504  ...  0.178942  0.008329  0.016749   \n",
      "6037  0.001041  0.000000  0.144607  ...  0.071729  0.002397  0.005115   \n",
      "6038  0.003147  0.000000  0.026730  ...  0.003552  0.000646  0.001509   \n",
      "6039  0.013231  0.000000  0.068298  ...  0.025167  0.003388  0.004906   \n",
      "6040  0.003356  0.000000  0.053333  ...  0.107434  0.003206  0.003370   \n",
      "\n",
      "mID       3946      3947      3948      3949      3950      3951      3952  \n",
      "uID                                                                         \n",
      "1     0.003986  0.003193  0.214657  0.085796  0.008170  0.008072  0.087781  \n",
      "2     0.062278  0.034371  0.349302  0.181381  0.041328  0.015973  0.210134  \n",
      "3     0.010450  0.004165  0.149610  0.060579  0.007563  0.005396  0.065423  \n",
      "4     0.000017  0.003387  0.025398  0.003693  0.002965  0.000598  0.003774  \n",
      "5     0.037098  0.004184  0.819247  0.594144  0.042444  0.054013  0.611774  \n",
      "...        ...       ...       ...       ...       ...       ...       ...  \n",
      "6036  0.080101  0.111473  1.226465  0.802437  0.143608  0.079058  0.841700  \n",
      "6037  0.007006  0.087015  0.225935  0.230980  0.085068  0.027774  0.236203  \n",
      "6038  0.000329  0.004445  0.029779  0.011196  0.004306  0.001364  0.011449  \n",
      "6039  0.000240  0.047102  0.077222  0.051364  0.041239  0.008315  0.052482  \n",
      "6040  0.014667  0.099157  0.417515  0.401782  0.105985  0.044289  0.410947  \n",
      "\n",
      "[6040 rows x 3664 columns]\n",
      "mID       1         2         3         4         5         6         7     \\\n",
      "uID                                                                          \n",
      "1     5.000000  0.218400  0.180189  0.084691  0.172853  0.105464  0.293883   \n",
      "2     0.492053  0.347704  0.145447  0.017005  0.065835  0.928003  0.060594   \n",
      "3     0.548136  0.160800  0.082487  0.032135  0.068807  0.180249  0.110412   \n",
      "4     0.284615  0.056549  0.000000  0.000000  0.000000  0.013092  0.000000   \n",
      "5     1.152778  0.048671  0.022790  0.044850  0.010316  2.000000  0.056227   \n",
      "...        ...       ...       ...       ...       ...       ...       ...   \n",
      "6036  2.901329  0.666377  0.377042  2.000000  0.299311  1.534222  0.501944   \n",
      "6037  0.874156  0.093107  0.000000  0.010125  0.000000  0.252311  0.011216   \n",
      "6038  0.176853  0.045310  0.029047  0.013138  0.027865  0.014096  0.046805   \n",
      "6039  0.605095  0.163958  0.124029  0.054080  0.118980  0.047469  0.197619   \n",
      "6040  3.000000  0.044392  0.010392  0.026378  0.009969  0.437410  0.040760   \n",
      "\n",
      "mID       8         9         10    ...      3943      3944      3945  \\\n",
      "uID                                 ...                                 \n",
      "1     0.019852  0.000000  0.068476  ...  0.016970  0.003507  0.006609   \n",
      "2     0.019756  0.122785  0.835399  ...  0.036924  0.000683  0.002500   \n",
      "3     0.009668  0.017199  0.197792  ...  0.011479  0.001277  0.004413   \n",
      "4     0.000000  0.000000  0.087828  ...  0.001810  0.000082  0.002683   \n",
      "5     0.007435  0.019239  0.121874  ...  0.110293  0.001251  0.003021   \n",
      "...        ...       ...       ...  ...       ...       ...       ...   \n",
      "6036  0.048090  0.103940  0.903504  ...  0.178942  0.008329  0.016749   \n",
      "6037  0.001041  0.000000  0.144607  ...  0.071729  0.002397  0.005115   \n",
      "6038  0.003147  0.000000  0.026730  ...  0.003552  0.000646  0.001509   \n",
      "6039  0.013231  0.000000  0.068298  ...  0.025167  0.003388  0.004906   \n",
      "6040  0.003356  0.000000  0.053333  ...  0.107434  0.003206  0.003370   \n",
      "\n",
      "mID       3946      3947      3948      3949      3950      3951      3952  \n",
      "uID                                                                         \n",
      "1     0.003986  0.003193  0.214657  0.085796  0.008170  0.008072  0.087781  \n",
      "2     0.062278  0.034371  0.349302  0.181381  0.041328  0.015973  0.210134  \n",
      "3     0.010450  0.004165  0.149610  0.060579  0.007563  0.005396  0.065423  \n",
      "4     0.000017  0.003387  0.025398  0.003693  0.002965  0.000598  0.003774  \n",
      "5     0.037098  0.004184  0.819247  0.594144  0.042444  0.054013  0.611774  \n",
      "...        ...       ...       ...       ...       ...       ...       ...  \n",
      "6036  0.080101  0.111473  1.226465  0.802437  0.143608  0.079058  0.841700  \n",
      "6037  0.007006  0.087015  0.225935  0.230980  0.085068  0.027774  0.236203  \n",
      "6038  0.000329  0.004445  0.029779  0.011196  0.004306  0.001364  0.011449  \n",
      "6039  0.000240  0.047102  0.077222  0.051364  0.041239  0.008315  0.052482  \n",
      "6040  0.014667  0.099157  0.417515  0.401782  0.105985  0.044289  0.410947  \n",
      "\n",
      "[6040 rows x 3664 columns]\n"
     ]
    }
   ],
   "source": [
    "from sklearn.decomposition import NMF\n",
    "\n",
    "nmf_model = NMF(n_components=5, random_state=40)\n",
    "W = nmf_model.fit_transform(rating_matrix_zero)\n",
    "H = nmf_model.components_\n",
    "\n",
    "rating_matrix_hat = np.dot(W, H)\n",
    "rating_matrix_reconstructed = pd.DataFrame(rating_matrix_hat, index=rating_matrix.index, columns=rating_matrix.columns)\n",
    "\n",
    "rating_matrix_filled = rating_matrix.copy()\n",
    "\n",
    "mask = rating_matrix.isna()\n",
    "rating_matrix_filled[mask] = rating_matrix_reconstructed[mask]\n",
    "\n",
    "print(rating_matrix_reconstructed)\n",
    "print(rating_matrix_filled)\n"
   ]
  },
  {
   "cell_type": "markdown",
   "id": "1c354189-89a5-41b5-b431-e6f18261afa6",
   "metadata": {},
   "source": [
    "## Measuring RSME"
   ]
  },
  {
   "cell_type": "code",
   "execution_count": 48,
   "id": "ba99feac-034c-44c6-b6dc-93faa5b82f21",
   "metadata": {},
   "outputs": [
    {
     "name": "stdout",
     "output_type": "stream",
     "text": [
      "RMSE: 2.9914125530578106\n"
     ]
    }
   ],
   "source": [
    "from sklearn.metrics import root_mean_squared_error\n",
    "\n",
    "def get_predicted(row):\n",
    "    try:\n",
    "        return rating_matrix_reconstructed.at[row['uID'], row['mID']]\n",
    "    except KeyError:\n",
    "        return np.nan\n",
    "        \n",
    "test['predicted'] = test.apply(get_predicted, axis=1)\n",
    "test_clean = test.dropna(subset=['predicted'])\n",
    "\n",
    "rmse = root_mean_squared_error(test_clean['rating'], test_clean['predicted'])\n",
    "print(f'RMSE: {rmse}')"
   ]
  },
  {
   "cell_type": "markdown",
   "id": "0fcf3cb7-0b99-49e1-badd-8ea51e86d53d",
   "metadata": {},
   "source": [
    "## Addressing lack of performance"
   ]
  },
  {
   "cell_type": "markdown",
   "id": "60f02807-457c-4b92-b349-74083d3ec896",
   "metadata": {},
   "source": [
    "I used NMF to fill in ratings for movies that users did not rate, but, as you see and as was predicted, it did not work well compared to the methods from the homework assignment, which had RMSE values around 1. One reason for this is that NMF does not handle data sparsity well, which the ratings matrix had (many movies missing ratings). Another reason could be NMF's reliance on latent factors where the other methods are able to find patterns and relationships within the data.\n",
    "\n",
    "NMF might be able to be improved for this use case by using it in conjunction with a similarity based method. This could involved using NMF to find latent factors and then proceeding with a similarity based method. We could combine one of the baseline approaches like imputing to user average prior to using NMF to incorporate missing patterns and relationships."
   ]
  }
 ],
 "metadata": {
  "kernelspec": {
   "display_name": "Python 3 (ipykernel)",
   "language": "python",
   "name": "python3"
  },
  "language_info": {
   "codemirror_mode": {
    "name": "ipython",
    "version": 3
   },
   "file_extension": ".py",
   "mimetype": "text/x-python",
   "name": "python",
   "nbconvert_exporter": "python",
   "pygments_lexer": "ipython3",
   "version": "3.12.3"
  }
 },
 "nbformat": 4,
 "nbformat_minor": 5
}
